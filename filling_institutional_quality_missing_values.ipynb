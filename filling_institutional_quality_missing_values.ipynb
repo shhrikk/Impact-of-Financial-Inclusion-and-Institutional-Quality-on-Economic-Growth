{
 "cells": [
  {
   "cell_type": "code",
   "execution_count": 1,
   "id": "0404a178-c106-4ba4-93c9-8926ad90beee",
   "metadata": {
    "tags": []
   },
   "outputs": [
    {
     "name": "stdout",
     "output_type": "stream",
     "text": [
      "Filled data saved to 'Filled_missing_Institutional_quality.xlsx'.\n"
     ]
    }
   ],
   "source": [
    "# Handling missing values by forward and backward fill\n",
    "# For simplicity we used variables a,b,c,d,e,f,g\n",
    "# a := Voice and Accountability\n",
    "# b := Political Stability and absence of Violence\n",
    "# c := Government Effectiveness\n",
    "# d := Regulatory quality\n",
    "# e := Corruption Control\n",
    "# f := Rule of law\n",
    "# g := Civil liberties\n",
    "\n",
    "import pandas as pd\n",
    "\n",
    "# Load data\n",
    "panel_data = pd.read_excel('Institutional_quality_missing_values.xlsx')\n",
    "\n",
    "panel_data.sort_values(by=['Country', 'Year'], inplace=True)\n",
    "\n",
    "# Columns to fill\n",
    "columns_to_fill = ['a', 'b', 'c', 'd', 'e','f','g']\n",
    "\n",
    "# Forward and Backward fill\n",
    "for column in columns_to_fill:\n",
    "    panel_data[column+'_filled'] = panel_data.groupby('Country')[column].fillna(method='ffill') \n",
    "    panel_data[column+'_filled'] = panel_data.groupby('Country')[column+'_filled'].fillna(method='bfill')\n",
    "\n",
    "# Putting them in a new excel\n",
    "panel_data.to_excel('Filled_missing_Institutional_quality.xlsx', index=False)\n",
    "\n",
    "print(\"Filled data saved to 'Filled_missing_Institutional_quality.xlsx'.\")\n"
   ]
  }
 ],
 "metadata": {
  "kernelspec": {
   "display_name": "Python 3 (ipykernel)",
   "language": "python",
   "name": "python3"
  },
  "language_info": {
   "codemirror_mode": {
    "name": "ipython",
    "version": 3
   },
   "file_extension": ".py",
   "mimetype": "text/x-python",
   "name": "python",
   "nbconvert_exporter": "python",
   "pygments_lexer": "ipython3",
   "version": "3.11.5"
  }
 },
 "nbformat": 4,
 "nbformat_minor": 5
}
