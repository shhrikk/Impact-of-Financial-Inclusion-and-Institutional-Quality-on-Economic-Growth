{
 "cells": [
  {
   "cell_type": "code",
   "execution_count": 3,
   "id": "65a2e703-76a4-45a2-9806-90c2b9b1dfa8",
   "metadata": {
    "tags": []
   },
   "outputs": [],
   "source": [
    "import numpy as np\n",
    "import pandas as pd\n",
    "from sklearn.decomposition import PCA\n",
    "from sklearn.preprocessing import StandardScaler\n",
    "\n",
    "# Load data\n",
    "financial_data = pd.read_excel('IQ_PCA.xlsx')\n"
   ]
  },
  {
   "cell_type": "code",
   "execution_count": 4,
   "id": "3bbb107c-096a-4208-b0a3-5569e0e253a4",
   "metadata": {
    "tags": []
   },
   "outputs": [
    {
     "name": "stdout",
     "output_type": "stream",
     "text": [
      "     Composite Index\n",
      "0          -3.045547\n",
      "1          -2.759744\n",
      "2          -2.629188\n",
      "3          -2.560063\n",
      "4          -2.344744\n",
      "..               ...\n",
      "335        -2.605176\n",
      "336        -2.580440\n",
      "337        -2.378786\n",
      "338        -2.357871\n",
      "339        -2.391326\n",
      "\n",
      "[340 rows x 1 columns]\n"
     ]
    }
   ],
   "source": [
    "# Selecting relevant columns\n",
    "selected_columns = ['a_filled', 'b_filled', 'c_filled', 'd_filled', 'e_filled','f_filled','g_filled']\n",
    "data = financial_data[selected_columns]\n",
    "\n",
    "# Standardizing the data with mean 0 and standard deviation 1\n",
    "scaler = StandardScaler()\n",
    "scaled_data = scaler.fit_transform(data)\n",
    "\n",
    "# Reducing dimensionality using Principal Component Analysis (PCA)\n",
    "pca = PCA(n_components=1)\n",
    "composite_index = pca.fit_transform(scaled_data)\n",
    "\n",
    "# Creating DataFrame for composite index\n",
    "composite_index_df = pd.DataFrame(composite_index, columns=['Composite Index'])\n",
    "\n",
    "print(composite_index_df)\n",
    "\n",
    "# Exporting composite index results \n",
    "composite_index_df.to_excel('output_IQ_PCA.xlsx', index=False)\n"
   ]
  }
 ],
 "metadata": {
  "kernelspec": {
   "display_name": "Python 3 (ipykernel)",
   "language": "python",
   "name": "python3"
  },
  "language_info": {
   "codemirror_mode": {
    "name": "ipython",
    "version": 3
   },
   "file_extension": ".py",
   "mimetype": "text/x-python",
   "name": "python",
   "nbconvert_exporter": "python",
   "pygments_lexer": "ipython3",
   "version": "3.11.5"
  }
 },
 "nbformat": 4,
 "nbformat_minor": 5
}
