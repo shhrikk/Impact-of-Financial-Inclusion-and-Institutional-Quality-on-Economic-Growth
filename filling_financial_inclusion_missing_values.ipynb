{
 "cells": [
  {
   "cell_type": "code",
   "execution_count": 17,
   "id": "0165904b-1d5f-4886-86e4-33d4b013fc37",
   "metadata": {
    "tags": []
   },
   "outputs": [
    {
     "name": "stdout",
     "output_type": "stream",
     "text": [
      "Filled data saved to 'Filled_missing_Financial_Inclusion.xlsx'.\n"
     ]
    }
   ],
   "source": [
    "# Handling missing values by forward and backward fill\n",
    "# For simplicity we used variables a,b,c,d,e\n",
    "# a := ATMs per 100,000 adults\n",
    "# b := Bank branches per 100,000 adults\n",
    "# c := ATMs per 1000 km\n",
    "# d := Bank branches per 1000 km\n",
    "# e := Domestic credit to private sector\n",
    "\n",
    "import pandas as pd\n",
    "\n",
    "# Load data\n",
    "panel_data = pd.read_excel('Financial_Inclusion_missing_values.xlsx')\n",
    "\n",
    "panel_data.sort_values(by=['Country', 'Year'], inplace=True)\n",
    "\n",
    "# Columns to fill\n",
    "columns_to_fill = ['a', 'b', 'c', 'd', 'e']\n",
    "\n",
    "# Forward and Backward fill\n",
    "for column in columns_to_fill:\n",
    "    panel_data[column+'_filled'] = panel_data.groupby('Country')[column].fillna(method='ffill') \n",
    "    panel_data[column+'_filled'] = panel_data.groupby('Country')[column+'_filled'].fillna(method='bfill')\n",
    "\n",
    "# Putting them in a new excel\n",
    "panel_data.to_excel('Filled_missing_Financial_Inclusion.xlsx', index=False)\n",
    "\n",
    "print(\"Filled data saved to 'Filled_missing_Financial_Inclusion.xlsx'.\")\n"
   ]
  }
 ],
 "metadata": {
  "kernelspec": {
   "display_name": "Python 3 (ipykernel)",
   "language": "python",
   "name": "python3"
  },
  "language_info": {
   "codemirror_mode": {
    "name": "ipython",
    "version": 3
   },
   "file_extension": ".py",
   "mimetype": "text/x-python",
   "name": "python",
   "nbconvert_exporter": "python",
   "pygments_lexer": "ipython3",
   "version": "3.11.5"
  }
 },
 "nbformat": 4,
 "nbformat_minor": 5
}
