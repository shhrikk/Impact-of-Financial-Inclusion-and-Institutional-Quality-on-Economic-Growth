{
 "cells": [
  {
   "cell_type": "code",
   "execution_count": 9,
   "id": "cd3b8e49-4807-452c-a05d-5a0ae3801217",
   "metadata": {
    "tags": []
   },
   "outputs": [],
   "source": [
    "import numpy as np\n",
    "import pandas as pd\n",
    "from sklearn.decomposition import PCA\n",
    "from sklearn.preprocessing import StandardScaler\n",
    "\n",
    "# Load data\n",
    "financial_data = pd.read_excel('FI_PCA.xlsx')\n"
   ]
  },
  {
   "cell_type": "code",
   "execution_count": 10,
   "id": "3f28004a-8e00-43df-8195-c7bf4c939c3c",
   "metadata": {
    "tags": []
   },
   "outputs": [
    {
     "name": "stdout",
     "output_type": "stream",
     "text": [
      "     Composite Index\n",
      "0          -1.032193\n",
      "1          -0.971508\n",
      "2          -0.811096\n",
      "3          -0.724544\n",
      "4          -0.595054\n",
      "..               ...\n",
      "335        -0.550342\n",
      "336        -0.584926\n",
      "337        -0.771888\n",
      "338        -0.972349\n",
      "339        -0.935226\n",
      "\n",
      "[340 rows x 1 columns]\n"
     ]
    }
   ],
   "source": [
    "# Selecting relevant columns\n",
    "selected_columns = ['a_filled', 'b_filled', 'c_filled', 'd_filled', 'e_filled']\n",
    "data = financial_data[selected_columns]\n",
    "\n",
    "# Standardizing the data with mean 0 and standard deviation 1\n",
    "scaler = StandardScaler()\n",
    "scaled_data = scaler.fit_transform(data)\n",
    "\n",
    "# Reducing dimensionality using Principal Component Analysis (PCA)\n",
    "pca = PCA(n_components=1)\n",
    "composite_index = pca.fit_transform(scaled_data)\n",
    "\n",
    "# Creating DataFrame for composite index\n",
    "composite_index_df = pd.DataFrame(composite_index, columns=['Composite Index'])\n",
    "\n",
    "print(composite_index_df)\n",
    "\n",
    "# Exporting composite index results \n",
    "composite_index_df.to_excel('output_FI_PCA.xlsx', index=False)\n"
   ]
  },
  {
   "cell_type": "code",
   "execution_count": null,
   "id": "25635bda-a5a7-4799-929e-df3ec6446fbc",
   "metadata": {},
   "outputs": [],
   "source": []
  }
 ],
 "metadata": {
  "kernelspec": {
   "display_name": "Python 3 (ipykernel)",
   "language": "python",
   "name": "python3"
  },
  "language_info": {
   "codemirror_mode": {
    "name": "ipython",
    "version": 3
   },
   "file_extension": ".py",
   "mimetype": "text/x-python",
   "name": "python",
   "nbconvert_exporter": "python",
   "pygments_lexer": "ipython3",
   "version": "3.11.5"
  }
 },
 "nbformat": 4,
 "nbformat_minor": 5
}
